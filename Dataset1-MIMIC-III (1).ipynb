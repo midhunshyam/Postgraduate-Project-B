{
 "cells": [
  {
   "cell_type": "markdown",
   "id": "4086c582-da69-4065-9a3d-a7410fef5928",
   "metadata": {},
   "source": [
    "# Bio_ClinicalBERT for Kinetic Accident Classification\n",
    "# Dataset 1: MIMIC-III"
   ]
  },
  {
   "cell_type": "markdown",
   "id": "93500f71-17d3-4972-80b8-a3c43a05882e",
   "metadata": {},
   "source": [
    "#### Libraries"
   ]
  },
  {
   "cell_type": "code",
   "execution_count": 1,
   "id": "44f367d2-a668-4ecd-a3b6-0c9624f6e16e",
   "metadata": {},
   "outputs": [],
   "source": [
    "import pandas as pd\n",
    "import matplotlib.pyplot as plt\n",
    "from collections import Counter\n",
    "import re\n",
    "import numpy as np\n",
    "from gensim import corpora, models\n",
    "import os\n",
    "import nltk\n",
    "from nltk.corpus import stopwords\n",
    "from transformers import AutoTokenizer"
   ]
  },
  {
   "cell_type": "markdown",
   "id": "ba6e0b90-b628-4f6f-b4aa-2402a0c1a423",
   "metadata": {},
   "source": [
    "## 1. Data exploration"
   ]
  },
  {
   "cell_type": "code",
   "execution_count": 2,
   "id": "001a1023-0d73-4085-bed6-82499aac74ac",
   "metadata": {},
   "outputs": [],
   "source": [
    "data = pd.read_csv(\"/home/22058122/mimic-iii/NOTEEVENTS.csv.gz\", low_memory = False)"
   ]
  },
  {
   "cell_type": "code",
   "execution_count": 3,
   "id": "12d22105-45b7-4a7c-a7c8-c705eeb8eeec",
   "metadata": {},
   "outputs": [
    {
     "name": "stdout",
     "output_type": "stream",
     "text": [
      "<class 'pandas.core.frame.DataFrame'>\n",
      "RangeIndex: 2083180 entries, 0 to 2083179\n",
      "Data columns (total 11 columns):\n",
      " #   Column       Dtype  \n",
      "---  ------       -----  \n",
      " 0   ROW_ID       int64  \n",
      " 1   SUBJECT_ID   int64  \n",
      " 2   HADM_ID      float64\n",
      " 3   CHARTDATE    object \n",
      " 4   CHARTTIME    object \n",
      " 5   STORETIME    object \n",
      " 6   CATEGORY     object \n",
      " 7   DESCRIPTION  object \n",
      " 8   CGID         float64\n",
      " 9   ISERROR      float64\n",
      " 10  TEXT         object \n",
      "dtypes: float64(3), int64(2), object(6)\n",
      "memory usage: 174.8+ MB\n",
      "None \n",
      "\n",
      "Data head: \n",
      "    ROW_ID  SUBJECT_ID   HADM_ID   CHARTDATE CHARTTIME STORETIME  \\\n",
      "0     174       22532  167853.0  2151-08-04       NaN       NaN   \n",
      "1     175       13702  107527.0  2118-06-14       NaN       NaN   \n",
      "\n",
      "            CATEGORY DESCRIPTION  CGID  ISERROR  \\\n",
      "0  Discharge summary      Report   NaN      NaN   \n",
      "1  Discharge summary      Report   NaN      NaN   \n",
      "\n",
      "                                                TEXT  \n",
      "0  Admission Date:  [**2151-7-16**]       Dischar...  \n",
      "1  Admission Date:  [**2118-6-2**]       Discharg...   \n",
      "\n",
      "ROW_ID is unique: True\n",
      "TEXT is unique: False\n"
     ]
    }
   ],
   "source": [
    "print(data.info(),\"\\n\")\n",
    "print(\"Data head:\", \"\\n\" ,data.head(2), \"\\n\")\n",
    "print(\"ROW_ID is unique:\", data[\"ROW_ID\"].is_unique)\n",
    "print(\"TEXT is unique:\", data[\"TEXT\"].is_unique)"
   ]
  },
  {
   "cell_type": "code",
   "execution_count": 4,
   "id": "bb309771-af55-485c-bc2e-c5d65755e933",
   "metadata": {},
   "outputs": [
    {
     "name": "stdout",
     "output_type": "stream",
     "text": [
      "Number of rows: 2023185\n",
      "TEXT is unique: True\n"
     ]
    }
   ],
   "source": [
    "data = data[[\"ROW_ID\" , \"TEXT\"]]\n",
    "data = data.drop_duplicates(subset=\"TEXT\", keep=\"first\")\n",
    "print(\"Number of rows:\" , data.shape[0])\n",
    "print(\"TEXT is unique:\", data[\"TEXT\"].is_unique)"
   ]
  },
  {
   "cell_type": "code",
   "execution_count": 5,
   "id": "bbfc31f2-2cf7-4af7-97cc-30b44d613433",
   "metadata": {},
   "outputs": [],
   "source": [
    "# Calculate the number of words in the TEXT column\n",
    "data['W_COUNT'] = data['TEXT'].apply(lambda x: len(str(x).split()))"
   ]
  },
  {
   "cell_type": "code",
   "execution_count": 6,
   "id": "2289181f-7f1f-4ca1-9f72-7212010a39d3",
   "metadata": {},
   "outputs": [
    {
     "name": "stdout",
     "output_type": "stream",
     "text": [
      "Maximum number of words: 7980\n",
      "Minimum number of words: 0\n",
      "Average number of words: 248.73\n"
     ]
    },
    {
     "data": {
      "image/png": "[encoded data removed]",
      "text/plain": [
       "<Figure size 576x432 with 1 Axes>"
      ]
     },
     "metadata": {
      "needs_background": "light"
     },
     "output_type": "display_data"
    },
    {
     "data": {
      "image/png": "[encoded data removed]",
      "text/plain": [
       "<Figure size 576x432 with 1 Axes>"
      ]
     },
     "metadata": {
      "needs_background": "light"
     },
     "output_type": "display_data"
    },
    {
     "name": "stdout",
     "output_type": "stream",
     "text": [
      "Number of null observations: 9\n"
     ]
    }
   ],
   "source": [
    "# Calculate statistics\n",
    "max_words = data['W_COUNT'].max()\n",
    "min_words = data['W_COUNT'].min()\n",
    "avg_words = data['W_COUNT'].mean()\n",
    "\n",
    "# Print statistics\n",
    "print(f\"Maximum number of words: {max_words}\")\n",
    "print(f\"Minimum number of words: {min_words}\")\n",
    "print(f\"Average number of words: {avg_words:.2f}\")\n",
    "\n",
    "# Create a box plot of word counts\n",
    "plt.figure(figsize=(8, 6))\n",
    "plt.boxplot(data['W_COUNT'], vert=False)\n",
    "plt.title('Box Plot of Number of Words in TEXT Column')\n",
    "plt.xlabel('Number of Words')\n",
    "plt.show()\n",
    "\n",
    "# Plot the histogram\n",
    "plt.figure(figsize=(8, 6))\n",
    "plt.hist(data['W_COUNT'], bins=20, edgecolor='black')  # You can adjust the number of bins\n",
    "plt.title('Histogram of Number of Words in TEXT Column')\n",
    "plt.xlabel('Number of Words')\n",
    "plt.ylabel('Frequency')\n",
    "plt.show()\n",
    "\n",
    "print(\"Number of null observations:\", len(data[data[\"W_COUNT\"] < 1]))"
   ]
  },
  {
   "cell_type": "code",
   "execution_count": 7,
   "id": "af56122a-7629-4327-9878-506d6245e00b",
   "metadata": {},
   "outputs": [
    {
     "name": "stdout",
     "output_type": "stream",
     "text": [
      "Number of observations having word count less than or equal 512: 1794767\n",
      "Number of observations having word count more than 512: 228312\n"
     ]
    }
   ],
   "source": [
    "data = data[data[\"W_COUNT\"] > 1]\n",
    "print(\"Number of observations having word count less than or equal 512:\",data[data[\"W_COUNT\"] <= 512].shape[0])\n",
    "print(\"Number of observations having word count more than 512:\", data[data[\"W_COUNT\"] > 512].shape[0])"
   ]
  },
  {
   "cell_type": "code",
   "execution_count": 8,
   "id": "b18635e0-04e4-42c0-832a-a601c64460a3",
   "metadata": {},
   "outputs": [],
   "source": [
    "# --- Heading counter function ---\n",
    "def count_headings(dataframe, column_name='TEXT'):\n",
    "    heading_counter = Counter()\n",
    "\n",
    "    # Regular expression pattern to identify headings that end with a colon\n",
    "    pattern = re.compile(r'\\b[A-Za-z ]+?:')\n",
    "\n",
    "    # Iterate through each row in the dataframe\n",
    "    for text in dataframe[column_name].dropna():  # Dropping NaN values to ensure all entries are strings\n",
    "        if isinstance(text, str):  # Ensure that the text is a string\n",
    "            # Extract all headings using the regex pattern\n",
    "            found_headings = pattern.findall(text)\n",
    "            # Normalize and count each heading\n",
    "            for heading in found_headings:\n",
    "                normalized_heading = heading.strip()\n",
    "                heading_counter[normalized_heading] += 1\n",
    "\n",
    "    return heading_counter"
   ]
  },
  {
   "cell_type": "code",
   "execution_count": 9,
   "id": "eba6ec2e-71e3-4f48-9f96-b0ddb7f3c595",
   "metadata": {},
   "outputs": [],
   "source": [
    "headings = count_headings(data, column_name='TEXT')"
   ]
  },
  {
   "cell_type": "code",
   "execution_count": 10,
   "id": "88ebe4df-1d37-4876-8615-1dd27a27abce",
   "metadata": {
    "scrolled": true
   },
   "outputs": [
    {
     "name": "stdout",
     "output_type": "stream",
     "text": [
      "Reason: 629952\n",
      "Plan: 527309\n",
      "MEDICAL CONDITION: 499198\n",
      "REASON FOR THIS EXAMINATION: 498823\n",
      "Assessment: 457012\n",
      "Response: 450494\n",
      "Action: 448915\n",
      "IMPRESSION: 443401\n",
      "Admitting Diagnosis: 386765\n",
      "Comments: 307366\n",
      "P: 288818\n",
      "INDICATION: 245672\n",
      "FINDINGS: 241460\n",
      "A: 213649\n",
      "COMPARISON: 185148\n",
      "mg Tablet Sig: 182426\n",
      "CV: 179921\n",
      "Allergies: 177061\n",
      "Nutrition: 159282\n",
      "Drains: 155895\n",
      "HISTORY: 154075\n",
      "Contrast: 151764\n",
      "O: 151252\n",
      "Communication: 144296\n",
      "BP: 142137\n",
      "Prophylaxis: 140187\n",
      "Chief Complaint: 139758\n",
      "HR: 139240\n",
      "GU: 139207\n",
      "GI: 138461\n",
      "RR: 137813\n",
      "Heart rhythm: 137692\n",
      "Code status: 135381\n",
      "Balance: 133701\n",
      "Other labs: 132363\n",
      "Height: 131211\n",
      "Urine: 131082\n",
      "Stool: 130475\n",
      "PO: 130425\n",
      "Total out: 130416\n",
      "Total In: 130408\n",
      "NG: 130244\n",
      "Blood products: 130185\n",
      "Other ICU medications: 129564\n",
      "Last dose of Antibiotics: 129465\n",
      "Infusions: 128993\n",
      "TECHNIQUE: 128268\n",
      "Tmax: 128151\n",
      "ABG: 127869\n",
      "Other medications: 126843\n",
      "DVT: 126766\n",
      "Stress ulcer: 125564\n",
      "Lines: 125198\n",
      "Glycemic Control: 124325\n",
      "Skin: 123569\n",
      "Neurologic: 122479\n",
      "Delivery Device: 121908\n",
      "Disposition: 116336\n",
      "Neuro: 115523\n",
      "Hour Events: 113957\n",
      "INR: 112364\n",
      "Cardiovascular: 107307\n",
      "Refills: 106981\n",
      "TF: 104537\n",
      "IVF: 104473\n",
      "Disp: 104334\n",
      "Review of systems: 101921\n",
      "Tcurrent: 99920\n",
      "HEENT: 96294\n",
      "VAP: 94160\n",
      "RESP: 94043\n",
      "FEN: 93715\n",
      "T: 92358\n",
      "Resp: 91873\n",
      "ID: 82575\n",
      "Chest: 82471\n",
      "Changes to medical and family history: 82153\n",
      "HPI: 80844\n",
      "NEURO: 78438\n",
      "AST: 76849\n",
      "Lymph: 75751\n",
      "D: 74540\n",
      "OPTIRAY Amt: 72043\n",
      "Neuts: 70484\n",
      "Mono: 69905\n",
      "Lactic Acid: 69865\n",
      "Eos: 69844\n",
      "Time: 67573\n",
      "Responds to: 66271\n",
      "Albumin: 66047\n",
      "Ventilator mode: 65837\n",
      "LDH: 65490\n",
      "General Appearance: 64453\n",
      "Abdominal: 63685\n",
      "PEEP: 61841\n",
      "Ve: 61066\n",
      "Breath Sounds: 59700\n",
      "PIP: 59557\n",
      "Admission Date: 59502\n",
      "Service: 59262\n",
      "Discharge Date: 59235\n",
      "Peripheral Vascular: 57306\n",
      "WET READ: 57082\n",
      "Imaging: 56304\n",
      "Right radial pulse: 55548\n",
      "Right DP pulse: 55451\n",
      "Left DP pulse: 55371\n",
      "Movement: 54798\n",
      "Tone: 54683\n",
      "Social History: 54040\n",
      "INTERPRETATION: 52777\n",
      "Sex: 51929\n",
      "Date of Birth: 51914\n",
      "Total time spent: 51845\n",
      "Edema: 51305\n",
      "Temperature: 50681\n",
      "Indication: 50348\n",
      "Findings: 48645\n",
      "Abdomen: 48312\n",
      "Status: 47755\n",
      "Conclusions: 47371\n",
      "Doppler: 46981\n",
      "PLAN: 46652\n",
      "SKIN: 46461\n",
      "Expansion: 46166\n",
      "Test: 46129\n",
      "Technical Quality: 46118\n",
      "TEST INFORMATION: 46117\n",
      "PMH: 45976\n",
      "Extremities: 45120\n",
      "T Bili: 45098\n",
      "LEFT VENTRICLE: 44832\n",
      "MITRAL VALVE: 43587\n",
      "AORTIC VALVE: 43067\n",
      "RIGHT VENTRICLE: 43035\n",
      "Social: 42129\n",
      "PERICARDIUM: 42038\n",
      "Attending: 41198\n",
      "TRICUSPID VALVE: 41056\n",
      "Discharge Disposition: 40793\n",
      "Past Medical History: 40490\n",
      "Throat: 40103\n",
      "Physical Exam: 39810\n",
      "TITLE: 39179\n",
      "History of Present Illness: 39058\n",
      "Major Surgical or Invasive Procedure: 38719\n",
      "Brief Hospital Course: 38700\n",
      "LEFT ATRIUM: 38662\n",
      "PS : 38650\n",
      "Discharge Diagnosis: 38628\n",
      "Discharge Condition: 38601\n",
      "Family History: 38437\n",
      "Ext: 38427\n",
      "AORTA: 38033\n",
      "S: 37883\n",
      "Pertinent Results: 37881\n",
      "Discharge Instructions: 37848\n",
      "INTERATRIAL SEPTUM: 37827\n",
      "Medications on Admission: 37770\n",
      "Followup Instructions: 37657\n",
      "Type: 37466\n",
      "pulse: 37270\n",
      "Discharge Medications: 37037\n",
      "Size: 36856\n",
      "Lipase: 36632\n",
      "Field of view: 35038\n",
      "Left: 34764\n",
      "CVP: 34611\n",
      "PMHx: 34127\n",
      "Band: 33876\n",
      "Plateau: 33618\n",
      "Sig: 33323\n",
      "Renal: 33032\n",
      "ENDO: 32974\n",
      "Fibrinogen: 32876\n",
      "SOCIAL: 32872\n",
      "Endocrine: 32298\n",
      "Abd: 31880\n",
      "Assessment and Plan: 31546\n",
      "PULMONARY ARTERY: 30901\n",
      "Access: 30790\n",
      "mg Capsule Sig: 30772\n",
      "General: 30274\n",
      "LUL Lung Sounds: 29943\n",
      "RUL Lung Sounds: 29940\n",
      "RLL Lung Sounds: 29923\n",
      "LLL Lung Sounds: 29920\n",
      "Pulmonary: 29889\n",
      "hours: 29722\n",
      "Rhythm: 29642\n",
      "Tube feeding: 29437\n",
      "Endo: 29171\n",
      "IV Fluid: 29144\n",
      "Mg: 29001\n",
      "Neck: 28917\n",
      "Current medications: 28657\n",
      "GENERAL COMMENTS: 28616\n",
      "Conjunctiva: 28413\n",
      "amount: 28261\n",
      "Day of mechanical ventilation: 28191\n",
      "consistency: 28079\n",
      "T current: 27869\n",
      "Order date: 27857\n",
      "Ca: 27775\n",
      "Hematology: 27529\n",
      "Ideal body weight: 27496\n",
      "Ideal tidal volume: 27472\n",
      "Lungs: 26911\n",
      "Chief complaint: 26758\n",
      "VAP bundle: 26704\n",
      "Facility: 26649\n",
      "Right: 26581\n",
      "Level of breathing assistance: 26525\n",
      "Consults: 26519\n",
      "Visual assessment of breathing pattern: 26417\n",
      "Left Extremities: 26019\n",
      "Gen: 25993\n",
      "Right Extremities: 25932\n",
      "Reason for continuing current ventilatory support: 25373\n",
      "Wounds: 25281\n",
      "Infectious Disease: 25276\n",
      "RSBI: 24919\n",
      "Assessment of breathing comfort: 24793\n",
      "Microbiology: 24537\n",
      "Day of intubation: 23943\n",
      "ETT: 23603\n",
      "Fluids: 23568\n",
      "DEV: 23462\n",
      "Code: 23291\n",
      "Completed by: 23157\n",
      "PE: 23114\n",
      "Route: 22931\n",
      "Cuff pressure: 22765\n",
      "Trigger work assessment: 22615\n",
      "Position: 22584\n",
      "Cuff  Management: 22510\n",
      "Known difficult intubation: 22450\n",
      "Press: 22289\n",
      "CLINICAL HISTORY: 21812\n",
      "CXR: 21793\n",
      "CARDIAC: 21695\n",
      "Invasive ventilation assessment: 21396\n",
      "Disposition : 21378\n",
      "neuro: 21320\n",
      "COMPARISONS: 21298\n",
      "plan: 20780\n",
      "Billing Diagnosis: 20756\n",
      "Pain: 20736\n",
      "resp: 20466\n",
      "Other: 20433\n",
      "MAGNEVIST Amt: 20323\n",
      "Bili: 20277\n",
      "Dorsalis pedis: 19880\n",
      "RSBI Deferred: 19836\n",
      "Posterior tibial: 19300\n",
      "Respiratory: 19123\n",
      "ACCESS: 19067\n",
      "Clear : 18850\n",
      "gu: 18614\n",
      "Dictated By: 18542\n",
      "Left radial pulse: 18236\n",
      "Anemia: 17817\n",
      "on: 17787\n",
      "Past medical history: 17172\n",
      "Cardiac: 17041\n",
      "Tobacco: 17005\n",
      "Protected Section Addendum Entered By: 17004\n",
      "Acid: 16940\n",
      "Provider: 16336\n",
      "Cuff volume: 16263\n",
      "ABD: 16180\n",
      "ABDOMEN: 15948\n",
      "Procedure location: 15827\n",
      "EXT: 15757\n",
      "N: 15710\n",
      "STUDY: 15693\n",
      "Labs: 15527\n",
      "Family history: 15481\n",
      "Post operative day: 15454\n",
      "Pulm: 15353\n",
      "Compliance: 15285\n",
      "Occupation: 15224\n",
      "Events: 15117\n",
      "Oriented: 14982\n",
      "Alcohol: 14973\n",
      "Start date: 14873\n",
      "mL Solution Sig: 14705\n",
      "Musculoskeletal: 14386\n",
      "Murmur: 14315\n",
      "Neuro checks Q: 14291\n",
      "Diminished: 14204\n",
      "PFI: 13937\n",
      "Crackles : 13930\n",
      "BONE WINDOWS: 13905\n",
      "LUNGS: 13900\n",
      "Dispo: 13842\n",
      "Drugs: 13832\n",
      "gi: 13689\n",
      "cv: 13615\n",
      "Tracheostomy tube: 13458\n",
      "Manufacturer: 13457\n",
      "PULM: 13279\n",
      "GEN: 13250\n",
      "PSH: 13243\n",
      "bilateral : 13199\n",
      "HEME: 13122\n",
      "Dysynchrony assessment: 13103\n",
      "CVS: 13018\n",
      "REASON FOR EXAM: 12996\n",
      "REASON FOR EXAMINATION: 12993\n",
      "Airway problems: 12979\n",
      "Bedside Procedures: 12922\n",
      "NECK: 12767\n",
      "invasive ventilation assessment: 12676\n",
      "Gastrointestinal: 12602\n",
      "CLINICAL INDICATION: 12393\n",
      "HISTORY OF PRESENT ILLNESS: 12387\n",
      "VS: 12315\n",
      "GENERAL: 12237\n",
      "Mental Status: 12108\n",
      "Transports: 12079\n",
      "PROCEDURE: 11946\n",
      "Constitutional: 11935\n",
      "Systemic anticoagulation: 11901\n",
      "DISPO: 11895\n",
      "ICU consent signed Comments: 11892\n",
      "CONTRAINDICATIONS for IV CONTRAST: 11868\n",
      "Respiratory Care: 11824\n",
      "ALLERGIES: 11718\n",
      "ROS: 11653\n",
      "CODE: 11564\n",
      "pedis: 11547\n",
      "PMV: 11544\n",
      "PAST MEDICAL HISTORY: 11469\n",
      "Hypotension: 11355\n",
      "RENAL: 11253\n",
      "R: 11106\n",
      "Precautions: 11094\n",
      "Lymphatic: 11052\n",
      "Right lower extremity edema: 10880\n",
      "EXTREMITIES: 10792\n",
      "BUN: 10762\n",
      "Level of Consciousness: 10758\n",
      "Heme: 10690\n",
      "CLINICAL INFORMATION: 10684\n",
      "HOSPITAL COURSE: 10671\n",
      "Heart Rate: 10644\n",
      "Activity Status: 10629\n",
      "social: 10602\n",
      "Respiratory rate: 10596\n",
      "Admission weight: 10586\n",
      "Admit diagnosis: 10575\n",
      "HTN: 10574\n",
      "saturation: 10574\n",
      "set: 10573\n",
      "Reactions: 10571\n",
      "Daily weight: 10570\n",
      "total out: 10567\n",
      "flow: 10566\n",
      "total in: 10566\n",
      "invasive BP: 10565\n",
      "delivery device: 10565\n",
      "Attending MD: 10563\n",
      "Transferred from: 10557\n",
      "time of Transfer: 10554\n",
      "Arterial BP: 10550\n",
      "Transferred to: 10546\n",
      "Additional history: 10532\n",
      "Procedure and date: 10508\n",
      "Pertinent Lab Results: 10497\n",
      "Patient valuables: 10496\n",
      "Glucose: 10483\n",
      "o: 10462\n",
      "Phone: 10441\n",
      "Incision: 10422\n",
      "Clothes: 10402\n",
      "edema: 10377\n",
      "Jewelry: 10358\n",
      "Potassium: 10327\n",
      "Creatinine: 10325\n",
      "Sodium: 10298\n",
      "Credit cards sent home with: 10293\n",
      "Hematocrit: 10285\n",
      "CHEST: 10260\n",
      "Chloride: 10252\n",
      "REVISIONS TO PATHWAY: 10230\n",
      "Patient admitted from: 10151\n",
      "Other valuables: 10097\n",
      "Money: 10025\n"
     ]
    }
   ],
   "source": [
    "# Print only headings appearing more than 10000 times, sorted by count in descending order\n",
    "sorted_headings = sorted(headings.items(), key=lambda item: item[1], reverse=True)\n",
    "for heading, count in sorted_headings:\n",
    "    if count > 12000:\n",
    "        print(f\"{heading} {count}\")"
   ]
  },
  {
   "cell_type": "markdown",
   "id": "d58c6b7e-92ef-4e61-a515-7dfe0e04dbf5",
   "metadata": {},
   "source": [
    "## 2. Data preprocessing"
   ]
  },
  {
   "cell_type": "code",
   "execution_count": 22,
   "id": "c750050e-3249-4c52-b109-aeed82fae9a4",
   "metadata": {},
   "outputs": [],
   "source": [
    "pdata = data.copy() # -To avoid warnings"
   ]
  },
  {
   "cell_type": "markdown",
   "id": "fe6ff53d-1b6b-445f-a43c-1807ea79ca91",
   "metadata": {},
   "source": [
    "### 2.1 Text extraction"
   ]
  },
  {
   "cell_type": "code",
   "execution_count": 23,
   "id": "7f0dbaac-0e7c-485d-9db9-29756a80a554",
   "metadata": {},
   "outputs": [],
   "source": [
    "# --- Define target heading variations ---\n",
    "heading_variations = {\n",
    "    'Admit Diagnosis': [\n",
    "        'Admit diagnosis',\n",
    "        'Admitting Diagnosis',\n",
    "        'ADMIT DIAGNOSIS'\n",
    "    ],\n",
    "    'Medical Condition': [\n",
    "        'MEDICAL CONDITION',\n",
    "        'Medical Condition'\n",
    "    ],\n",
    "    'History of Present Illness': [\n",
    "        'History of Present Illness',\n",
    "        'HISTORY OF PRESENT ILLNESS',\n",
    "        'HISTORY OF THE PRESENT ILLNESS',\n",
    "        'History of the present illness',\n",
    "        'HPI'\n",
    "    ],\n",
    "    'Chief Complaint': [\n",
    "        'Chief Complaint',\n",
    "        'chief complaint',\n",
    "        'CHIEF COMPLAINT'\n",
    "    ]\n",
    "}\n",
    "\n",
    "# Create a mapping from lowercase variants to standardized headings.\n",
    "variation_to_standard = {}\n",
    "for standard, variations in heading_variations.items():\n",
    "    for variant in variations:\n",
    "        variation_to_standard[variant.lower()] = standard\n",
    "\n",
    "# --- Build the regex pattern using only the target headings ---\n",
    "# Escape each variant and sort by length (longer ones first to avoid partial matches)\n",
    "escaped_headings = sorted(\n",
    "    [re.escape(variant) for variant in variation_to_standard.keys()],\n",
    "    key=len,\n",
    "    reverse=True\n",
    ")\n",
    "headings_pattern = '|'.join(escaped_headings)\n",
    "\n",
    "# The regex stops capturing when it sees a newline followed by a line that starts with some text and a colon.\n",
    "pattern = re.compile(\n",
    "    rf'(?P<heading>{headings_pattern})\\s*:\\s*'\n",
    "    rf'(?P<content>.*?)(?=\\n\\s*[^:\\n]+:\\s*|\\Z)',\n",
    "    re.IGNORECASE | re.DOTALL\n",
    ")"
   ]
  },
  {
   "cell_type": "code",
   "execution_count": 24,
   "id": "9c2201bb-0c1f-414e-914f-44da4c04c07e",
   "metadata": {},
   "outputs": [],
   "source": [
    "# --- Extraction Function ---\n",
    "def extract_headings(text, pattern, variation_mapping):\n",
    "    \"\"\"\n",
    "    For each target heading in text, capture its content.\n",
    "    For headings known to be one-line (such as Admitting Diagnosis), only the first line is kept.\n",
    "    Also, if the captured content is empty or its first nonempty line looks like another heading,\n",
    "    the value is set to None.\n",
    "    \"\"\"\n",
    "    matches = pattern.finditer(text)\n",
    "    extracted = {}\n",
    "    for match in matches:\n",
    "        heading_variant = match.group('heading').strip().lower()\n",
    "        content = match.group('content')  # may be multiline\n",
    "        content_stripped = content.strip() if content else ''\n",
    "        \n",
    "        # Check if the first nonempty line itself looks like a heading (e.g., \"24 Hour Events:\")\n",
    "        first_non_empty_line = None\n",
    "        for line in content.splitlines():\n",
    "            if line.strip():\n",
    "                first_non_empty_line = line.strip()\n",
    "                break\n",
    "        if first_non_empty_line and re.match(r'^[^:]+:\\s*$', first_non_empty_line):\n",
    "            content_stripped = ''\n",
    "        if not content_stripped:\n",
    "            content_stripped = None\n",
    "\n",
    "        standard_heading = variation_mapping.get(heading_variant)\n",
    "        if standard_heading:\n",
    "            # Special rule: for headings expected to be one line (e.g., Admitting Diagnosis),\n",
    "            # take only the first line.\n",
    "            if standard_heading == \"Admit Diagnosis\":\n",
    "                first_line = content.splitlines()[0].strip() if content else \"\"\n",
    "                content_stripped = first_line if first_line else None\n",
    "\n",
    "            # Merge content if the heading appears more than once.\n",
    "            if standard_heading in extracted:\n",
    "                if extracted[standard_heading] is None:\n",
    "                    extracted[standard_heading] = content_stripped\n",
    "                else:\n",
    "                    if content_stripped is not None:\n",
    "                        extracted[standard_heading] += \" \" + content_stripped\n",
    "            else:\n",
    "                extracted[standard_heading] = content_stripped\n",
    "    return extracted"
   ]
  },
  {
   "cell_type": "code",
   "execution_count": 25,
   "id": "06c4a7b7-7e0f-4d33-ac28-0ac214201b6e",
   "metadata": {},
   "outputs": [
    {
     "name": "stdout",
     "output_type": "stream",
     "text": [
      "   ROW_ID                                               TEXT  W_COUNT  \\\n",
      "0     174  Admission Date:  [**2151-7-16**]       Dischar...      110   \n",
      "1     175  Admission Date:  [**2118-6-2**]       Discharg...     1943   \n",
      "2     176  Admission Date:  [**2119-5-4**]              D...     1426   \n",
      "\n",
      "                          History of Present Illness  \\\n",
      "0                                                NaN   \n",
      "1  This is an 81-year-old female\\nwith a history ...   \n",
      "2  This 81 year old woman has a history of COPD. ...   \n",
      "\n",
      "                                     Chief Complaint Medical Condition  \\\n",
      "0                                                NaN               NaN   \n",
      "1                                                NaN               NaN   \n",
      "2  81 yo F smoker w/ COPD, severe TBM, s/p trache...               NaN   \n",
      "\n",
      "  Admit Diagnosis  \n",
      "0             NaN  \n",
      "1             NaN  \n",
      "2             NaN  \n"
     ]
    }
   ],
   "source": [
    "extract = pdata['TEXT'].apply(lambda x: extract_headings(x, pattern, variation_to_standard))\n",
    "extract = pd.json_normalize(extract)\n",
    "pdata = pdata.join(extract)\n",
    "print(pdata.head(3))"
   ]
  },
  {
   "cell_type": "code",
   "execution_count": 26,
   "id": "d12080ba-0634-4341-b019-937b5b4a7c39",
   "metadata": {},
   "outputs": [],
   "source": [
    "# Combine the columns for the clinical note\n",
    "clinical_columns = [\n",
    "    \"Chief Complaint\",\n",
    "    \"Admit Diagnosis\",\n",
    "    \"Medical Condition\",\n",
    "    \"History of Present Illness\"\n",
    "]\n",
    "\n",
    "# Define a function that combines text from the row and returns np.nan if the combined string is empty.\n",
    "def combine_clinical_note(row):\n",
    "    note = ' '.join(\n",
    "        (x.strip() + ('.' if x.strip() and not x.strip().endswith('.') else ''))\n",
    "        for x in row if x.strip()\n",
    "    ).strip()\n",
    "    return note if note else np.nan\n",
    "\n",
    "# Fill missing values with empty strings and apply the function.\n",
    "pdata['CLINICAL_NOTE'] = pdata[clinical_columns].fillna('').apply(combine_clinical_note, axis=1)"
   ]
  },
  {
   "cell_type": "code",
   "execution_count": 27,
   "id": "1bbfa8d9-ce01-4c77-9b88-c617f84dc4cc",
   "metadata": {},
   "outputs": [
    {
     "name": "stdout",
     "output_type": "stream",
     "text": [
      "   ROW_ID                                               TEXT  \\\n",
      "0     174  Admission Date:  [**2151-7-16**]       Dischar...   \n",
      "1     175  Admission Date:  [**2118-6-2**]       Discharg...   \n",
      "2     176  Admission Date:  [**2119-5-4**]              D...   \n",
      "\n",
      "                                       CLINICAL_NOTE  \n",
      "0                                                NaN  \n",
      "1  This is an 81-year-old female\\nwith a history ...  \n",
      "2  81 yo F smoker w/ COPD, severe TBM, s/p trache...   \n",
      "\n",
      "CLINICAL_NOTE is unique: False\n",
      "Clinical notes ROW_ID is unique: True\n"
     ]
    }
   ],
   "source": [
    "# Create the new df - clinicalnotes(cnotes) with the text columns\n",
    "cnotes = pdata[['ROW_ID', 'TEXT', 'CLINICAL_NOTE']]\n",
    "print(cnotes.head(3), \"\\n\")\n",
    "print(\"CLINICAL_NOTE is unique:\", cnotes['CLINICAL_NOTE'].is_unique)\n",
    "print(\"Clinical notes ROW_ID is unique:\", cnotes['ROW_ID'].is_unique)"
   ]
  },
  {
   "cell_type": "code",
   "execution_count": 28,
   "id": "57894ded-61eb-410e-af21-3cdb7b84648c",
   "metadata": {},
   "outputs": [
    {
     "name": "stdout",
     "output_type": "stream",
     "text": [
      "Clinical notes ROW_ID is unique: True\n",
      "CLINICAL_NOTE is unique: True\n",
      "Number of clinical note observations: 487335\n"
     ]
    }
   ],
   "source": [
    "# Remove duplicates and null observations\n",
    "cnotes = cnotes.drop_duplicates(subset=\"CLINICAL_NOTE\", keep=\"first\")\n",
    "cnotes = cnotes.dropna(subset=['CLINICAL_NOTE'])\n",
    "print(\"Clinical notes ROW_ID is unique:\", cnotes['ROW_ID'].is_unique)\n",
    "print(\"CLINICAL_NOTE is unique:\", cnotes['CLINICAL_NOTE'].is_unique)\n",
    "print(\"Number of clinical note observations:\", cnotes.shape[0])"
   ]
  },
  {
   "cell_type": "markdown",
   "id": "16efcf90-742f-4245-9526-3fd2dd690ab6",
   "metadata": {},
   "source": [
    "### 2.2 Data cleaning"
   ]
  },
  {
   "cell_type": "code",
   "execution_count": 29,
   "id": "3b96da83-446a-4095-a462-8942e5491cbf",
   "metadata": {},
   "outputs": [],
   "source": [
    "# --- Cleaner Function ---\n",
    "class TextCleaner:\n",
    "    def __init__(self):\n",
    "        # Regex to match patterns like [** ... **], (** ... **), or ** ... ** \n",
    "        # Use a lazy quantifier (.*?) and DOTALL so we match across newlines or unusual characters.\n",
    "        self.pattern = re.compile(\n",
    "            r'\\[\\*\\*.*?\\*\\*\\]|\\(\\*\\*.*?\\*\\*\\)|\\*\\*.*?\\*\\*',\n",
    "            flags=re.DOTALL\n",
    "        )\n",
    "\n",
    "    def remove_encodings(self, text):\n",
    "        \"\"\"Remove specific encoded patterns from the text.\"\"\"\n",
    "        return re.sub(self.pattern, '', text).strip()\n",
    "\n",
    "    def clean_text(self, text):\n",
    "        \"\"\"General purpose text cleaning function, removing various patterns.\"\"\"\n",
    "        # 1. Remove the encoded patterns first\n",
    "        text = self.remove_encodings(text)\n",
    "\n",
    "        # 2. Remove any leftover sequences of asterisks (e.g., '****')\n",
    "        text = re.sub(r'\\*+', ' ', text)\n",
    "\n",
    "        # 3. Replace multiple underscores with a single space\n",
    "        text = re.sub(r'__+', ' ', text)\n",
    "\n",
    "        # 4. Normalize whitespace\n",
    "        text = re.sub(r'\\s+', ' ', text).strip()\n",
    "\n",
    "        # 5. Remove dates of the form YYYY-MM-DD\n",
    "        text = re.sub(r'\\d{4}-\\d{1,2}-\\d{1,2}', '', text)\n",
    "\n",
    "        # 6. Remove brackets (optional, if you truly want all brackets removed)\n",
    "        text = re.sub(r'[\\(\\)\\[\\]{}]', '', text)\n",
    "\n",
    "        # 7. Remove punctuation (semicolon, colon, comma, dot, and question mark)\n",
    "        # text = re.sub(r'[;,\\.\\?]', '', text)\n",
    "\n",
    "        return text\n",
    "\n",
    "    def apply_cleaning(self, dataframe, column_name='TEXT'):\n",
    "        \"\"\"Apply cleaning function to a DataFrame column.\"\"\"\n",
    "        CLEAN_TEXT = dataframe[column_name].apply(self.clean_text)\n",
    "        dataframe = dataframe.assign(CLEAN_TEXT=CLEAN_TEXT)\n",
    "        return dataframe"
   ]
  },
  {
   "cell_type": "code",
   "execution_count": 30,
   "id": "00946263-0b8d-4c3e-91d9-41e3be04da26",
   "metadata": {},
   "outputs": [
    {
     "name": "stdout",
     "output_type": "stream",
     "text": [
      "CLEAN_TEXT is unique: False\n"
     ]
    }
   ],
   "source": [
    "cleaner = TextCleaner()\n",
    "cnotes = cleaner.apply_cleaning(dataframe = cnotes, column_name = \"CLINICAL_NOTE\")\n",
    "print(\"CLEAN_TEXT is unique:\", cnotes['CLEAN_TEXT'].is_unique)"
   ]
  },
  {
   "cell_type": "code",
   "execution_count": 31,
   "id": "d3e888ee-badc-4762-a938-d41a925498a8",
   "metadata": {},
   "outputs": [
    {
     "name": "stdout",
     "output_type": "stream",
     "text": [
      "CLEAN_TEXT is unique: True\n"
     ]
    }
   ],
   "source": [
    "cnotes = cnotes.drop_duplicates(subset=\"CLEAN_TEXT\", keep=\"first\")\n",
    "print(\"CLEAN_TEXT is unique:\", cnotes['CLEAN_TEXT'].is_unique)"
   ]
  },
  {
   "cell_type": "code",
   "execution_count": 32,
   "id": "c6f7c775-72e1-4604-8165-16cac19a5e65",
   "metadata": {},
   "outputs": [],
   "source": [
    "text = cnotes.copy().drop(columns = {\"TEXT\", \"CLINICAL_NOTE\"})\n",
    "text = text.rename(columns = {\"CLEAN_TEXT\": \"TEXT\"})"
   ]
  },
  {
   "cell_type": "code",
   "execution_count": 33,
   "id": "bdd1f12c-79aa-47ea-acce-75de1229009e",
   "metadata": {},
   "outputs": [],
   "source": [
    "# --- Duplicate sentence remover function ---\n",
    "def remove_duplicate_sentences(text):\n",
    "    # Use regex to split text into sentences; this handles common punctuation.\n",
    "    sentences = re.split(r'(?<=[.!?]) +', text)\n",
    "    seen = set()\n",
    "    unique_sentences = []\n",
    "    for sentence in sentences:\n",
    "        if sentence not in seen:\n",
    "            seen.add(sentence)\n",
    "            unique_sentences.append(sentence)\n",
    "    return \" \".join(unique_sentences)\n",
    "\n",
    "\n",
    "text[\"TEXT\"] = text[\"TEXT\"].apply(remove_duplicate_sentences)\n",
    "print(\"Number of observations having word count more than 512:\", text[text[\"W_COUNT\"] > 512].shape[0])"
   ]
  },
  {
   "cell_type": "code",
   "execution_count": 34,
   "id": "f09df65e-fb86-4e04-8f80-c8408a5d0937",
   "metadata": {},
   "outputs": [],
   "source": [
    "# --- Truncate function ---\n",
    "def truncate_text_to_512(text):\n",
    "    # Ensure that text is a string\n",
    "    if not isinstance(text, str):\n",
    "        return text\n",
    "    words = text.split()\n",
    "    truncated = \" \".join(words[:512])\n",
    "    return truncated\n",
    "\n",
    "# Truncate input to 512 words for Bio_ClinicalBERT to match its maximum input length.\n",
    "text[\"TEXT\"] = text[\"TEXT\"].apply(truncate_text_to_512)"
   ]
  },
  {
   "cell_type": "code",
   "execution_count": 35,
   "id": "11775392-f26f-4beb-9890-c5ae78ab5ea1",
   "metadata": {},
   "outputs": [],
   "source": [
    "# Count the number of words\n",
    "text['W_COUNT'] = text['TEXT'].apply(lambda x: len(str(x).split()))"
   ]
  },
  {
   "cell_type": "code",
   "execution_count": 36,
   "id": "6f9f8406-01f9-40ea-8b52-8dc92c78679f",
   "metadata": {},
   "outputs": [
    {
     "name": "stdout",
     "output_type": "stream",
     "text": [
      "Maximum number of words: 512\n",
      "Minimum number of words: 1\n",
      "Average number of words: 34.94\n"
     ]
    },
    {
     "data": {
      "image/png": "[encoded data removed]",
      "text/plain": [
       "<Figure size 576x432 with 1 Axes>"
      ]
     },
     "metadata": {
      "needs_background": "light"
     },
     "output_type": "display_data"
    },
    {
     "data": {
      "image/png": "[encoded data removed]",
      "text/plain": [
       "<Figure size 576x432 with 1 Axes>"
      ]
     },
     "metadata": {
      "needs_background": "light"
     },
     "output_type": "display_data"
    },
    {
     "name": "stdout",
     "output_type": "stream",
     "text": [
      "Number of null observations: 0\n",
      "Number of observations having word count more than 512: 0\n"
     ]
    }
   ],
   "source": [
    "# Calculate statistics\n",
    "max_words = text['W_COUNT'].max()\n",
    "min_words = text['W_COUNT'].min()\n",
    "avg_words = text['W_COUNT'].mean()\n",
    "\n",
    "# Print statistics\n",
    "print(f\"Maximum number of words: {max_words}\")\n",
    "print(f\"Minimum number of words: {min_words}\")\n",
    "print(f\"Average number of words: {avg_words:.2f}\")\n",
    "\n",
    "\n",
    "# Create a box plot of word counts\n",
    "plt.figure(figsize=(8, 6))\n",
    "plt.boxplot(text['W_COUNT'], vert=False)\n",
    "plt.title('Box Plot of Number of Words in TEXT Column')\n",
    "plt.xlabel('Number of Words')\n",
    "plt.show()\n",
    "\n",
    "# Plot the histogram\n",
    "plt.figure(figsize=(8, 6))\n",
    "plt.hist(text['W_COUNT'], bins=20, edgecolor='black', color = 'green')  # You can adjust the number of bins\n",
    "plt.title('Histogram of Number of Words in TEXT Column')\n",
    "plt.xlabel('Number of Words')\n",
    "plt.ylabel('Frequency')\n",
    "plt.show()\n",
    "\n",
    "print(\"Number of null observations:\", len(text[text[\"W_COUNT\"] < 1]))\n",
    "print(\"Number of observations having word count more than 512:\", text[text[\"W_COUNT\"] > 512].shape[0])"
   ]
  },
  {
   "cell_type": "code",
   "execution_count": 37,
   "id": "301d0a68-d6dd-48f5-8090-bdb082cfeca5",
   "metadata": {},
   "outputs": [],
   "source": [
    "# text.to_csv(\"clinical_text.csv\", index = False)"
   ]
  },
  {
   "cell_type": "markdown",
   "id": "cfa7d2f9-c83e-4f08-946a-d6ebee1629b0",
   "metadata": {},
   "source": [
    "## 3. Annotation"
   ]
  },
  {
   "cell_type": "code",
   "execution_count": 43,
   "id": "1f7f1c6d-c041-416f-b029-34e248b5f00d",
   "metadata": {},
   "outputs": [],
   "source": [
    "text = pd.read_csv(\"clinical_text.csv\")"
   ]
  },
  {
   "cell_type": "markdown",
   "id": "383c5d09-8bd4-4506-9dae-1f2f3e5d1c22",
   "metadata": {},
   "source": [
    "### 3.1 Dr. Jim's (Domain Expert) Kinetic Trauma Regular-Expression"
   ]
  },
  {
   "cell_type": "code",
   "execution_count": 38,
   "id": "35cc60e7-50da-4922-bc9e-4247463e0f75",
   "metadata": {},
   "outputs": [],
   "source": [
    "# --- Dr. Jim's (Domain Expert) vehicle regex ---\n",
    "KTInj_regex = (\n",
    "    r'\\b(?:mva|mba|vehicle|bus|pedestrian|atv|passenger|ute|ped|bike|dirtbike|motorbike|pushbike|scooter|truck|'\n",
    "    r'bicycle|motorcycle|driver|driving|rtc|rta|\\d*km[a-zA-Z/]*|skateboard|surfing|surf|horse|collision|'\n",
    "    r'crossing|buggy|ebike|jetski|vs car|car vs|car accident|moving car|traffic light|traffic lights|'\n",
    "    r'hit by car|hit by a car|car hit|airbag|tyre|airbags|T boned)\\b'\n",
    ")\n",
    "\n",
    "# Compile the regex with case-insensitive flag.\n",
    "pattern = re.compile(KTInj_regex, re.IGNORECASE)"
   ]
  },
  {
   "cell_type": "code",
   "execution_count": null,
   "id": "29f9708e-cc87-46ac-839d-8edaec3f4ce0",
   "metadata": {},
   "outputs": [],
   "source": [
    "# --- Prediction function using the regex ---\n",
    "def predict_ka(text):\n",
    "    \"\"\"\n",
    "    Given a text string, return a tuple (label, responsible_keywords) where:\n",
    "      - label is True if any vehicle-related keyword is found, else False.\n",
    "      - responsible_keywords is a comma-separated string of the matched keywords in lower case (or None if no match).\n",
    "    \"\"\"\n",
    "    # Find all matching keywords in the text.\n",
    "    matches = pattern.findall(text)\n",
    "    if matches:\n",
    "        # Convert each match to lower case and remove duplicates by converting to a set.\n",
    "        unique_matches = list(set(match.lower() for match in matches))\n",
    "        # Sort the keywords.\n",
    "        unique_matches.sort()\n",
    "        return True, \", \".join(unique_matches)\n",
    "    else:\n",
    "        return False, None"
   ]
  },
  {
   "cell_type": "code",
   "execution_count": 39,
   "id": "6dcf1fa2-71fc-43cf-bb4f-c956546b097f",
   "metadata": {},
   "outputs": [],
   "source": [
    "# Predict the labels\n",
    "text[['REGEX_LABEL', 'KEY']] = text['TEXT'].apply(lambda x: pd.Series(predict_ka(x)))"
   ]
  },
  {
   "cell_type": "code",
   "execution_count": 40,
   "id": "fef60757-74e9-4a64-88e8-648f5fa4301f",
   "metadata": {},
   "outputs": [
    {
     "name": "stdout",
     "output_type": "stream",
     "text": [
      "        ROW_ID                                               TEXT  W_COUNT  \\\n",
      "513847  513337  39 yoM s/p MVC vs tree, unrestrained, + airbag...       37   \n",
      "893518  900774  FEMUR FX. 20 year old man with MVC, restrained...       17   \n",
      "598417  605349  MVC, neck pain, back pain, knee pain, abdomina...       99   \n",
      "\n",
      "        REGEX_LABEL     KEY  \n",
      "513847         True  airbag  \n",
      "893518         True  airbag  \n",
      "598417         True  airbag   \n",
      "\n",
      "Total no of rows: 10971\n"
     ]
    }
   ],
   "source": [
    "# Subset the true cases\n",
    "true = text[text[\"REGEX_LABEL\"] == True]\n",
    "true = true.sort_values(by='KEY')\n",
    "print(true.head(3),\"\\n\")\n",
    "print(\"Total no of rows:\", true.shape[0])"
   ]
  },
  {
   "cell_type": "code",
   "execution_count": 41,
   "id": "ad1e6c07-fb39-4219-97c5-3395ee016447",
   "metadata": {},
   "outputs": [],
   "source": [
    "# true.to_csv(\"true.csv\", index = False)"
   ]
  },
  {
   "cell_type": "markdown",
   "id": "a0b063da-7777-4832-9ae2-9e837d784fd9",
   "metadata": {},
   "source": [
    "### 3.2 Latent Dirichlet Allocation"
   ]
  },
  {
   "cell_type": "code",
   "execution_count": 11,
   "id": "cf76ebb4-a539-4d29-8f26-603ce56a7e62",
   "metadata": {},
   "outputs": [],
   "source": [
    "true = pd.read_csv(\"true.csv\")"
   ]
  },
  {
   "cell_type": "code",
   "execution_count": 13,
   "id": "ae116343-cab7-407e-bafd-875f6ea491f1",
   "metadata": {},
   "outputs": [],
   "source": [
    "# --- Prediction function using the regex ---\n",
    "def lda_tokenize(text):\n",
    "    # Lowercase and remove non-alphabetical characters\n",
    "    text = text.lower()\n",
    "    text = re.sub(r'[^a-z\\s]', '', text)\n",
    "    tokens = nltk.word_tokenize(text)\n",
    "    # Remove stopwords\n",
    "    tokens = [token for token in tokens if token not in stopwords.words('english')]\n",
    "    return tokens"
   ]
  },
  {
   "cell_type": "code",
   "execution_count": 15,
   "id": "bca0bfd3-7643-4536-9b61-660ba1fbe85d",
   "metadata": {},
   "outputs": [],
   "source": [
    "true['tokens'] = true['TEXT'].apply(lda_tokenize)"
   ]
  },
  {
   "cell_type": "code",
   "execution_count": 16,
   "id": "cc572397-48f0-446a-87c4-d3b85244d7b4",
   "metadata": {},
   "outputs": [],
   "source": [
    "# Create a dictionary and corpus for LDA\n",
    "dictionary = corpora.Dictionary(true['tokens'])\n",
    "corpus = [dictionary.doc2bow(text) for text in true['tokens']]"
   ]
  },
  {
   "cell_type": "code",
   "execution_count": 17,
   "id": "feaae47e-e8e5-49d6-a4ec-8a4954aa014d",
   "metadata": {},
   "outputs": [
    {
     "name": "stdout",
     "output_type": "stream",
     "text": [
      "Topic #0: 0.080*\"sp\" + 0.066*\"year\" + 0.066*\"old\" + 0.049*\"vehicle\" + 0.047*\"motor\" + 0.043*\"man\" + 0.041*\"accident\" + 0.021*\"woman\" + 0.017*\"mvc\" + 0.016*\"struck\"\n",
      "Topic #1: 0.020*\"patient\" + 0.012*\"pain\" + 0.008*\"left\" + 0.007*\"pt\" + 0.007*\"transferred\" + 0.007*\"found\" + 0.007*\"right\" + 0.006*\"ct\" + 0.006*\"chest\" + 0.005*\"hospital\"\n"
     ]
    }
   ],
   "source": [
    "# Build the LDA model\n",
    "num_topics = 2\n",
    "lda_model = models.LdaModel(corpus=corpus, \n",
    "                            id2word=dictionary, \n",
    "                            num_topics=num_topics, \n",
    "                            passes=1000, \n",
    "                            random_state=13)\n",
    "\n",
    "# Print out the top words for each topic\n",
    "for i, topic in lda_model.print_topics(num_words=10):\n",
    "    print(f\"Topic #{i}: {topic}\")"
   ]
  },
  {
   "cell_type": "code",
   "execution_count": 18,
   "id": "688c73a3-356c-49dd-9474-605e05cd910a",
   "metadata": {},
   "outputs": [],
   "source": [
    "# Assign the dominant topic to each document.\n",
    "def get_dominant_topic(bow):\n",
    "    # Get the topic distribution for the document.\n",
    "    topics = lda_model.get_document_topics(bow)\n",
    "    # Select the topic with the highest probability.\n",
    "    dominant_topic = sorted(topics, key=lambda x: x[1], reverse=True)[0][0]\n",
    "    return dominant_topic\n",
    "\n",
    "# Compute dominant topic for each document in the corpus.\n",
    "true['dominant_topic'] = [get_dominant_topic(bow) for bow in corpus]"
   ]
  },
  {
   "cell_type": "code",
   "execution_count": 19,
   "id": "627d845e-ec2d-4d66-9d96-fa54bc3ff56b",
   "metadata": {},
   "outputs": [
    {
     "name": "stdout",
     "output_type": "stream",
     "text": [
      "\n",
      "Random Observations for Topic #0:\n",
      "STATUS POST MOTOR VEHICLE ACCIDENT WITH INJURIES;MULTIPLE FRACTURES. 20 year old man with MVA, s/p chest tube for small pneumothorax. PTX pre d/c of chest tube.\n",
      "--------------------------------------------------------------------------------\n",
      "MULTIPLE TRAUMA. 32 year old man with osteogen imperfecta, s/p mva.\n",
      "--------------------------------------------------------------------------------\n",
      "back pain. S/P FALL;TELEMETRY. 47yM s/p fall off horse onto fence, p/w multiple injuries. 1. small Right hemo/pneumothorax 2. multiple right sided rib fractures 3. right T8-T9, L1-L5 transverse process fx, T6-T11 spinous process fx 4. Right Psoas muscle hematoma, no active extrav.\n",
      "--------------------------------------------------------------------------------\n",
      "s/p Motor vewhicle crash. 23 year old man with s/p MVC, intubated in ED. check placement 23 year old man s/p mvc. 23 yo male unrestrianed driver, s/p motor vehicle crash, ?LOC. Hemodynamically stable per EMS, was taken to an area hosptial and later transferred to because of his injuries, for further care.\n",
      "--------------------------------------------------------------------------------\n",
      "37 year old man s/p MVC pedestrian struck.\n",
      "--------------------------------------------------------------------------------\n",
      "PELVIC FRACTURE. 46 year old man hit by car.\n",
      "--------------------------------------------------------------------------------\n",
      "S/P MOTORCYCLE ACCIDENT. 41 year old man with trauma, s/p Line placement.\n",
      "--------------------------------------------------------------------------------\n",
      "18 year old man with fall off skateboard, head strike vomiting.\n",
      "--------------------------------------------------------------------------------\n",
      "MOTOR VEHICLE ACCIDENT WITH UNSPECIFIED INJURIES. 72M with c5-6 ligamentous injury s/p fixation needing central venous access.\n",
      "--------------------------------------------------------------------------------\n",
      "MOTORCYCLE CRASH;LEG FRACTURE. 58 year old man with MVC with ?ac cholecystitis.\n",
      "--------------------------------------------------------------------------------\n",
      "\n",
      "Random Observations for Topic #1:\n",
      "26 year old man with MVA, lcosed head injury, thoracic aorta disection, liver laceration, B/L lung contusion. Difficult ventilation and oxygenation. Pt nmeeds CT of head, chest and Abd. Pt is going for an IVC filter also. He needs one trip for the two procedure. He is not very stable for travel. We cannot delay these procedures any longer. We borrow a PC portable ventilator from Med flight. This ventilator makd it possible for travling. Please page me for any question .\n",
      "--------------------------------------------------------------------------------\n",
      "Mr. is a 17 year old man who was transferred from an outside hospital after he was in a rollover motor vehicle high speed accident. He was the restrained driver of the vehicle. There is a report of a loss of consciousness at the scene, however, he was found ambulating at the scene. He was transferred from an outside hospital after his CT scan of the head shows subdural hematoma. On arrival, he had Coma Score of 15 and only complained of a headache and a lower back pain status post lumbar puncture at an outside hospital.\n",
      "--------------------------------------------------------------------------------\n",
      "This is a 62-year-old male who presented to outside hospital after shoveling snow a few day prior to admission when he developed intermittent chest pain, nausea, vomiting, diaphoresis, and lightheadedness. He described the pain as . It was initially constant but then subsided and became intermittent on the day of admission. He was driving and became very lightheaded. He then went to and was found to have a systolic blood pressure of 69. He was also found to be in atrial fibrillation with a heart rate in the 130s. He also was noted to have 2-mm to 3-mm ST elevations in leads V2 to V6 and large Q waves. His pressure responded to intravenous hydration. He was also started on a low-dose esmolol drip for rate control, also on heparin and Aggrastat. He was transferred to for catheterization which revealed a totally occluded proximal to medial left anterior descending artery with no collaterals. The left main was free of disease. The right coronary artery was with medial 50% stenosis and normal diastolic ventricular function. When the patient was initially hypotensive when arriving to the laboratory. The esmolol drip was discontinued. His blood pressure remained in the low 100s systolically, but later he required dopamine.\n",
      "--------------------------------------------------------------------------------\n",
      "Chest pain. 66 y/o M hx of HPL, and MI with 90% stenosis of mid-RCA s/p BMS and rheolytic thrombectomy and 90% mid-LAD stenosis s/p DES to LAD who presented to the ED after sudden onset of chest pressure this am while working in his yard. His symptoms were typical of prior episodes when he was having a MI. He was sweating profusely and have crushing, non-radiating chest pain. He says that over the last few weeks he was getting more fatigued with activities he was usually able to do with problem. his wife, with the onset of the chest pressure, he started sweating more than usual and they knew he was having a heart attack. He stated that he tried a SL nitro with no relief, but his prescription was 1 year old. Per his wife he also appeared to lose consciousness for a few minutes while in the car, but was arousable. He was taken by truck back to the house and EMS was called, an EKG was notable for ST elevations and a code STEMI was called. He was taken directly to the cath lab where had systolic BPs ranging from 80-96/50-60s, he recieved 210 cc contrast, was loaded with Plavix 600mg, and started on heparin drip. LHC via the right radial artery revealed 100% occlusion of the mid-LAD within the prior stent. This was stented with a DES. In addition, there was a 80% stenosis of the origin of the diagonal branch within the LAD stent. There was a 3 mm segment of intraluminal filling defect 15 mm distal to the stent likely representing embolized thrombus and patient was started on integrilin drip. Vitals on transfer were 93/66 90 42 92% on 3L. . On arrival to the floor, patient stable, he had complaints of residual chest discomfort with exhalation, but much improved. He described is \"when you just had a headache and it goes a way, you know you had a headache not too long ago\". Otherwise he had no c/o SOB, cough, arm, neck or jaw pain. Denies f/c, n/v, abdominal pain, LE edema.\n",
      "--------------------------------------------------------------------------------\n",
      "Patient is a 40-year-old male with a history of cocaine use, who presented with chest pain. On the day of admission, the patient was driving along the , when he suddenly developed severe substernal chest pain, which he described as a burning sensation. He had experienced the same chest pain two days prior to admission transiently. The patient attributed the chest pain to gas and bloating. However, two days prior to admission, this episode of chest pain did not seem to be going away. Was also associated with shortness of breath and one bout of emesis. The patient then proceeded to an outside hospital Emergency Department, where he was found to have an inferior ST segment elevation MI. He was started on Heparin, Integrilin, Plavix, and aspirin and sent to for intervention.\n",
      "--------------------------------------------------------------------------------\n",
      "22M s/p ATV accident, helmeted. GCS 6 in field, intubated at , given mannitol and tx to for blown left pupil.\n",
      "--------------------------------------------------------------------------------\n",
      "History: 41F s/p TBI MVA, ? of seizure d/o, p/w shaking episode concerning.\n",
      "--------------------------------------------------------------------------------\n",
      "Motor vehicle crash. 74-year-old male patient transferred from an OSH for a motor vehicle collision. Patient was restrained driver who struck a tree after ?LOC. Presents with diagnosis of RUE comminuted fracture and left mandibular condyle fracture. Arrived in ED in stable condition with GCS 15, splint to RUE. Patient had repeat CT and xrays. RUE fracture was reduced by ortho under conscious sedation. The patient was admitted to the trauma service for further management.\n",
      "--------------------------------------------------------------------------------\n",
      "36M presented with sudden onset of HA, blurred vision, diplopia, emesis, ?LOC, predominantly behind eyes while at gym lifting weights. Now found to have an IVH. Imaging shows residual bifrontal atrophy and IVH in 4th/3rd ventricles without hydrocephalus. Patient has a h/o migraines and traumatic brain injury after being hit by a car in . Patient recovered well with minimal .\n",
      "--------------------------------------------------------------------------------\n",
      "Retroperitoneal bleed, cellulitis. 77 y/o female w/ hx of transferred to from hospital after having a retroperitoneal bleed while undergoing anticoagulation for a right LE DVT. On the Pt was driving with husband from to when she experienced right leg swelling, erythema, pain. She went to AJH and was determined to have a small common femoral non-occlusive thrombus. She was anticoagulated with heparin and coumadin, and treated with oxacillin to cover possible cellulitis which was switched to levofloxacin and clindamycin. Her Hct dropped from 39.5 to 23. She was transfused with 2 units of PBRCs, 1 unit FFP, and protamine INR 3.5. Transferred to where she received 1 mg vitamine K, 2 units FFP, 2 unit PRBC and had a filter placed. Hct 31.6 on . Coags have corrected. Pt still has difficulty ambulating secondary to pain in right leg and lower abdomen as well as compressive neuropathy. Transferred now to floor.\n",
      "--------------------------------------------------------------------------------\n"
     ]
    }
   ],
   "source": [
    "# For each topic, randomly sample and print 10 observations.\n",
    "for topic in range(num_topics):\n",
    "    print(f\"\\nRandom Observations for Topic #{topic}:\")\n",
    "    # Filter documents that are dominated by the current topic.\n",
    "    topic_docs = true[true['dominant_topic'] == topic]\n",
    "    \n",
    "    # Sample 10 documents, or all if less than 10.\n",
    "    sample_size = min(10, len(topic_docs))\n",
    "    if sample_size == 0:\n",
    "        print(\"No documents for this topic.\")\n",
    "        continue\n",
    "    \n",
    "    sampled = topic_docs.sample(sample_size, random_state=42)\n",
    "    \n",
    "    # Print the TEXT field from the sampled documents.\n",
    "    for text in sampled['TEXT'].tolist():\n",
    "        print(text)\n",
    "        print('-'*80)"
   ]
  },
  {
   "cell_type": "code",
   "execution_count": null,
   "id": "ee354840-d033-4f58-a901-8aebe1799ace",
   "metadata": {},
   "outputs": [],
   "source": []
  }
 ],
 "metadata": {
  "kernelspec": {
   "display_name": "BCB",
   "language": "python",
   "name": "bcb"
  },
  "language_info": {
   "codemirror_mode": {
    "name": "ipython",
    "version": 3
   },
   "file_extension": ".py",
   "mimetype": "text/x-python",
   "name": "python",
   "nbconvert_exporter": "python",
   "pygments_lexer": "ipython3",
   "version": "3.10.4"
  }
 },
 "nbformat": 4,
 "nbformat_minor": 5
}
